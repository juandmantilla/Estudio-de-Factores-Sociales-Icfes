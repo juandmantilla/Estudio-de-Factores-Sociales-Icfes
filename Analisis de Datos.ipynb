{
 "cells": [
  {
   "cell_type": "markdown",
   "metadata": {},
   "source": [
    "# ANÁLISIS DE DATOS"
   ]
  },
  {
   "cell_type": "code",
   "execution_count": 1,
   "metadata": {},
   "outputs": [],
   "source": [
    "import numpy as np\n",
    "import pandas as pd\n",
    "\n",
    "import matplotlib.pyplot as plt\n",
    "from sklearn.cluster import KMeans\n",
    "from sklearn.cluster import DBSCAN\n",
    "from sklearn.decomposition import PCA\n",
    "\n",
    "%matplotlib inline"
   ]
  },
  {
   "cell_type": "code",
   "execution_count": 17,
   "metadata": {},
   "outputs": [
    {
     "data": {
      "text/html": [
       "<div>\n",
       "<style scoped>\n",
       "    .dataframe tbody tr th:only-of-type {\n",
       "        vertical-align: middle;\n",
       "    }\n",
       "\n",
       "    .dataframe tbody tr th {\n",
       "        vertical-align: top;\n",
       "    }\n",
       "\n",
       "    .dataframe thead th {\n",
       "        text-align: right;\n",
       "    }\n",
       "</style>\n",
       "<table border=\"1\" class=\"dataframe\">\n",
       "  <thead>\n",
       "    <tr style=\"text-align: right;\">\n",
       "      <th></th>\n",
       "      <th>ESTU_GENERO</th>\n",
       "      <th>ESTU_DEPTO_RESIDE</th>\n",
       "      <th>FAMI_ESTRATOVIVIENDA</th>\n",
       "      <th>FAMI_TIENEINTERNET</th>\n",
       "      <th>FAMI_TIENESERVICIOTV</th>\n",
       "      <th>FAMI_TIENECOMPUTADOR</th>\n",
       "      <th>FAMI_SITUACIONECONOMICA</th>\n",
       "      <th>ESTU_DEDICACIONLECTURADIARIA</th>\n",
       "      <th>ESTU_DEDICACIONINTERNET</th>\n",
       "      <th>COLE_AREA_UBICACION</th>\n",
       "      <th>PUNT_LECTURA_CRITICA</th>\n",
       "      <th>PUNT_MATEMATICAS</th>\n",
       "      <th>PUNT_C_NATURALES</th>\n",
       "      <th>PUNT_SOCIALES_CIUDADANAS</th>\n",
       "      <th>PUNT_INGLES</th>\n",
       "      <th>PUNT_GLOBAL</th>\n",
       "    </tr>\n",
       "  </thead>\n",
       "  <tbody>\n",
       "    <tr>\n",
       "      <th>0</th>\n",
       "      <td>1</td>\n",
       "      <td>4</td>\n",
       "      <td>2</td>\n",
       "      <td>1</td>\n",
       "      <td>1</td>\n",
       "      <td>0</td>\n",
       "      <td>1</td>\n",
       "      <td>15</td>\n",
       "      <td>180</td>\n",
       "      <td>0</td>\n",
       "      <td>63</td>\n",
       "      <td>69</td>\n",
       "      <td>54</td>\n",
       "      <td>57</td>\n",
       "      <td>65.0</td>\n",
       "      <td>305</td>\n",
       "    </tr>\n",
       "    <tr>\n",
       "      <th>1</th>\n",
       "      <td>1</td>\n",
       "      <td>13</td>\n",
       "      <td>1</td>\n",
       "      <td>1</td>\n",
       "      <td>1</td>\n",
       "      <td>0</td>\n",
       "      <td>2</td>\n",
       "      <td>45</td>\n",
       "      <td>45</td>\n",
       "      <td>0</td>\n",
       "      <td>54</td>\n",
       "      <td>50</td>\n",
       "      <td>50</td>\n",
       "      <td>40</td>\n",
       "      <td>48.0</td>\n",
       "      <td>242</td>\n",
       "    </tr>\n",
       "    <tr>\n",
       "      <th>2</th>\n",
       "      <td>1</td>\n",
       "      <td>31</td>\n",
       "      <td>2</td>\n",
       "      <td>0</td>\n",
       "      <td>0</td>\n",
       "      <td>0</td>\n",
       "      <td>2</td>\n",
       "      <td>15</td>\n",
       "      <td>45</td>\n",
       "      <td>1</td>\n",
       "      <td>59</td>\n",
       "      <td>43</td>\n",
       "      <td>46</td>\n",
       "      <td>45</td>\n",
       "      <td>47.0</td>\n",
       "      <td>241</td>\n",
       "    </tr>\n",
       "    <tr>\n",
       "      <th>3</th>\n",
       "      <td>1</td>\n",
       "      <td>6</td>\n",
       "      <td>3</td>\n",
       "      <td>1</td>\n",
       "      <td>1</td>\n",
       "      <td>1</td>\n",
       "      <td>1</td>\n",
       "      <td>15</td>\n",
       "      <td>180</td>\n",
       "      <td>0</td>\n",
       "      <td>61</td>\n",
       "      <td>60</td>\n",
       "      <td>60</td>\n",
       "      <td>67</td>\n",
       "      <td>63.0</td>\n",
       "      <td>310</td>\n",
       "    </tr>\n",
       "    <tr>\n",
       "      <th>4</th>\n",
       "      <td>1</td>\n",
       "      <td>15</td>\n",
       "      <td>2</td>\n",
       "      <td>1</td>\n",
       "      <td>1</td>\n",
       "      <td>0</td>\n",
       "      <td>1</td>\n",
       "      <td>15</td>\n",
       "      <td>120</td>\n",
       "      <td>0</td>\n",
       "      <td>56</td>\n",
       "      <td>51</td>\n",
       "      <td>48</td>\n",
       "      <td>49</td>\n",
       "      <td>56.0</td>\n",
       "      <td>257</td>\n",
       "    </tr>\n",
       "  </tbody>\n",
       "</table>\n",
       "</div>"
      ],
      "text/plain": [
       "   ESTU_GENERO  ESTU_DEPTO_RESIDE  FAMI_ESTRATOVIVIENDA  FAMI_TIENEINTERNET  \\\n",
       "0            1                  4                     2                   1   \n",
       "1            1                 13                     1                   1   \n",
       "2            1                 31                     2                   0   \n",
       "3            1                  6                     3                   1   \n",
       "4            1                 15                     2                   1   \n",
       "\n",
       "   FAMI_TIENESERVICIOTV  FAMI_TIENECOMPUTADOR  FAMI_SITUACIONECONOMICA  \\\n",
       "0                     1                     0                        1   \n",
       "1                     1                     0                        2   \n",
       "2                     0                     0                        2   \n",
       "3                     1                     1                        1   \n",
       "4                     1                     0                        1   \n",
       "\n",
       "   ESTU_DEDICACIONLECTURADIARIA  ESTU_DEDICACIONINTERNET  COLE_AREA_UBICACION  \\\n",
       "0                            15                      180                    0   \n",
       "1                            45                       45                    0   \n",
       "2                            15                       45                    1   \n",
       "3                            15                      180                    0   \n",
       "4                            15                      120                    0   \n",
       "\n",
       "   PUNT_LECTURA_CRITICA  PUNT_MATEMATICAS  PUNT_C_NATURALES  \\\n",
       "0                    63                69                54   \n",
       "1                    54                50                50   \n",
       "2                    59                43                46   \n",
       "3                    61                60                60   \n",
       "4                    56                51                48   \n",
       "\n",
       "   PUNT_SOCIALES_CIUDADANAS  PUNT_INGLES  PUNT_GLOBAL  \n",
       "0                        57         65.0          305  \n",
       "1                        40         48.0          242  \n",
       "2                        45         47.0          241  \n",
       "3                        67         63.0          310  \n",
       "4                        49         56.0          257  "
      ]
     },
     "execution_count": 17,
     "metadata": {},
     "output_type": "execute_result"
    }
   ],
   "source": [
    "datos = pd.read_csv(\"Datos/datos\")\n",
    "datos.head()"
   ]
  },
  {
   "cell_type": "markdown",
   "metadata": {},
   "source": [
    "## Cantidad total de hombres y mujeres que presentaron la prueba"
   ]
  },
  {
   "cell_type": "code",
   "execution_count": 19,
   "metadata": {},
   "outputs": [
    {
     "name": "stdout",
     "output_type": "stream",
     "text": [
      "0 267840\n",
      "1 227016\n"
     ]
    }
   ],
   "source": [
    "for i in np.unique(datos['ESTU_GENERO']):\n",
    "    print i, np.sum(datos['ESTU_GENERO']==i)"
   ]
  },
  {
   "cell_type": "markdown",
   "metadata": {},
   "source": [
    "## Cantidad total de estudiantes por departamento"
   ]
  },
  {
   "cell_type": "code",
   "execution_count": 23,
   "metadata": {},
   "outputs": [
    {
     "data": {
      "text/html": [
       "<div>\n",
       "<style scoped>\n",
       "    .dataframe tbody tr th:only-of-type {\n",
       "        vertical-align: middle;\n",
       "    }\n",
       "\n",
       "    .dataframe tbody tr th {\n",
       "        vertical-align: top;\n",
       "    }\n",
       "\n",
       "    .dataframe thead th {\n",
       "        text-align: right;\n",
       "    }\n",
       "</style>\n",
       "<table border=\"1\" class=\"dataframe\">\n",
       "  <thead>\n",
       "    <tr style=\"text-align: right;\">\n",
       "      <th></th>\n",
       "      <th>0</th>\n",
       "    </tr>\n",
       "  </thead>\n",
       "  <tbody>\n",
       "    <tr>\n",
       "      <th>1</th>\n",
       "      <td>815</td>\n",
       "    </tr>\n",
       "    <tr>\n",
       "      <th>2</th>\n",
       "      <td>66527</td>\n",
       "    </tr>\n",
       "    <tr>\n",
       "      <th>3</th>\n",
       "      <td>3008</td>\n",
       "    </tr>\n",
       "    <tr>\n",
       "      <th>4</th>\n",
       "      <td>27891</td>\n",
       "    </tr>\n",
       "    <tr>\n",
       "      <th>5</th>\n",
       "      <td>22070</td>\n",
       "    </tr>\n",
       "  </tbody>\n",
       "</table>\n",
       "</div>"
      ],
      "text/plain": [
       "       0\n",
       "1    815\n",
       "2  66527\n",
       "3   3008\n",
       "4  27891\n",
       "5  22070"
      ]
     },
     "execution_count": 23,
     "metadata": {},
     "output_type": "execute_result"
    }
   ],
   "source": [
    "lista = {i: np.sum(datos['ESTU_DEPTO_RESIDE']==i) for i in np.unique(datos['ESTU_DEPTO_RESIDE'])}\n",
    "dt = pd.DataFrame.from_dict(lista, orient='Index')\n",
    "dt.head()"
   ]
  },
  {
   "cell_type": "markdown",
   "metadata": {},
   "source": [
    "## Cuantificando si tiene servicio de internet"
   ]
  },
  {
   "cell_type": "code",
   "execution_count": 25,
   "metadata": {},
   "outputs": [
    {
     "name": "stdout",
     "output_type": "stream",
     "text": [
      "0 203976\n",
      "1 290880\n"
     ]
    }
   ],
   "source": [
    "for i in np.unique(datos['FAMI_TIENEINTERNET']):\n",
    "    print i, np.sum(datos['FAMI_TIENEINTERNET']==i)"
   ]
  },
  {
   "cell_type": "markdown",
   "metadata": {},
   "source": [
    "## Cuantificando si tienen computador"
   ]
  },
  {
   "cell_type": "code",
   "execution_count": 26,
   "metadata": {},
   "outputs": [
    {
     "name": "stdout",
     "output_type": "stream",
     "text": [
      "0 205840\n",
      "1 289016\n"
     ]
    }
   ],
   "source": [
    "for i in np.unique(datos['FAMI_TIENECOMPUTADOR']):\n",
    "    print i, np.sum(datos['FAMI_TIENECOMPUTADOR']==i)"
   ]
  },
  {
   "cell_type": "markdown",
   "metadata": {},
   "source": [
    "## Cuantificando la dedicación media a navegar por internet (en minutos)"
   ]
  },
  {
   "cell_type": "code",
   "execution_count": 27,
   "metadata": {},
   "outputs": [
    {
     "name": "stdout",
     "output_type": "stream",
     "text": [
      "0 31263\n",
      "15 93078\n",
      "45 129677\n",
      "120 144809\n",
      "180 96029\n"
     ]
    }
   ],
   "source": [
    "for i in np.unique(datos['ESTU_DEDICACIONINTERNET']):\n",
    "    print i, np.sum(datos['ESTU_DEDICACIONINTERNET']==i)"
   ]
  },
  {
   "cell_type": "markdown",
   "metadata": {},
   "source": [
    "## Cuantificando la dedicación media dedicación lectura diaria (en minutos)"
   ]
  },
  {
   "cell_type": "code",
   "execution_count": 29,
   "metadata": {},
   "outputs": [
    {
     "name": "stdout",
     "output_type": "stream",
     "text": [
      "0 88708\n",
      "15 193195\n",
      "45 137200\n",
      "90 55526\n",
      "120 20227\n"
     ]
    }
   ],
   "source": [
    "for i in np.unique(datos['ESTU_DEDICACIONLECTURADIARIA']):\n",
    "    print i, np.sum(datos['ESTU_DEDICACIONLECTURADIARIA']==i)"
   ]
  },
  {
   "cell_type": "markdown",
   "metadata": {},
   "source": [
    "## Cuantificando la cantidad de estudiantes que viven en zonas rurales o urbanas"
   ]
  },
  {
   "cell_type": "code",
   "execution_count": 31,
   "metadata": {},
   "outputs": [
    {
     "name": "stdout",
     "output_type": "stream",
     "text": [
      "0 13820\n",
      "1 164238\n",
      "2 182769\n",
      "3 100969\n",
      "4 22718\n",
      "5 7092\n",
      "6 3250\n"
     ]
    }
   ],
   "source": [
    "for i in np.unique(datos['COLE_AREA_UBICACION']):\n",
    "    print i, np.sum(datos['COLE_AREA_UBICACION']==i)"
   ]
  },
  {
   "cell_type": "markdown",
   "metadata": {},
   "source": [
    "## Cuantificando la cantidad de estudiantes que viven en los diferentes estratos sociales"
   ]
  },
  {
   "cell_type": "code",
   "execution_count": 32,
   "metadata": {},
   "outputs": [
    {
     "name": "stdout",
     "output_type": "stream",
     "text": [
      "0 13820\n",
      "1 164238\n",
      "2 182769\n",
      "3 100969\n",
      "4 22718\n",
      "5 7092\n",
      "6 3250\n"
     ]
    }
   ],
   "source": [
    "for i in np.unique(datos['FAMI_ESTRATOVIVIENDA']):\n",
    "    print i, np.sum(datos['FAMI_ESTRATOVIVIENDA']==i)"
   ]
  },
  {
   "cell_type": "code",
   "execution_count": null,
   "metadata": {},
   "outputs": [],
   "source": []
  }
 ],
 "metadata": {
  "kernelspec": {
   "display_name": "Python 2",
   "language": "python",
   "name": "python2"
  },
  "language_info": {
   "codemirror_mode": {
    "name": "ipython",
    "version": 2
   },
   "file_extension": ".py",
   "mimetype": "text/x-python",
   "name": "python",
   "nbconvert_exporter": "python",
   "pygments_lexer": "ipython2",
   "version": "2.7.14"
  }
 },
 "nbformat": 4,
 "nbformat_minor": 2
}
