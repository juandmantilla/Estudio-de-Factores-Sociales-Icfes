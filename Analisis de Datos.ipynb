{
 "cells": [
  {
   "cell_type": "markdown",
   "metadata": {},
   "source": [
    "<center><img src=\"img/def.jpg\" style=\"width:950px;\"></center>"
   ]
  },
  {
   "cell_type": "markdown",
   "metadata": {},
   "source": [
    "\n",
    "# ANÁLISIS DE DATOS"
   ]
  },
  {
   "cell_type": "code",
   "execution_count": 1,
   "metadata": {},
   "outputs": [],
   "source": [
    "#Nota: Notebook realizado en Python 3\n",
    "\n",
    "import numpy as np\n",
    "import pandas as pd\n",
    "\n",
    "import matplotlib.pyplot as plt\n",
    "from sklearn.cluster import KMeans\n",
    "from sklearn.cluster import DBSCAN\n",
    "from sklearn.decomposition import PCA\n",
    "\n",
    "%matplotlib inline"
   ]
  },
  {
   "cell_type": "code",
   "execution_count": 2,
   "metadata": {},
   "outputs": [
    {
     "name": "stdout",
     "output_type": "stream",
     "text": [
      "(494856, 16)\n"
     ]
    },
    {
     "data": {
      "text/html": [
       "<div>\n",
       "<style scoped>\n",
       "    .dataframe tbody tr th:only-of-type {\n",
       "        vertical-align: middle;\n",
       "    }\n",
       "\n",
       "    .dataframe tbody tr th {\n",
       "        vertical-align: top;\n",
       "    }\n",
       "\n",
       "    .dataframe thead th {\n",
       "        text-align: right;\n",
       "    }\n",
       "</style>\n",
       "<table border=\"1\" class=\"dataframe\">\n",
       "  <thead>\n",
       "    <tr style=\"text-align: right;\">\n",
       "      <th></th>\n",
       "      <th>ESTU_GENERO</th>\n",
       "      <th>ESTU_DEPTO_RESIDE</th>\n",
       "      <th>FAMI_ESTRATOVIVIENDA</th>\n",
       "      <th>FAMI_TIENEINTERNET</th>\n",
       "      <th>FAMI_TIENESERVICIOTV</th>\n",
       "      <th>FAMI_TIENECOMPUTADOR</th>\n",
       "      <th>FAMI_SITUACIONECONOMICA</th>\n",
       "      <th>ESTU_DEDICACIONLECTURADIARIA</th>\n",
       "      <th>ESTU_DEDICACIONINTERNET</th>\n",
       "      <th>COLE_AREA_UBICACION</th>\n",
       "      <th>PUNT_LECTURA_CRITICA</th>\n",
       "      <th>PUNT_MATEMATICAS</th>\n",
       "      <th>PUNT_C_NATURALES</th>\n",
       "      <th>PUNT_SOCIALES_CIUDADANAS</th>\n",
       "      <th>PUNT_INGLES</th>\n",
       "      <th>PUNT_GLOBAL</th>\n",
       "    </tr>\n",
       "  </thead>\n",
       "  <tbody>\n",
       "    <tr>\n",
       "      <th>0</th>\n",
       "      <td>1</td>\n",
       "      <td>4</td>\n",
       "      <td>2</td>\n",
       "      <td>1</td>\n",
       "      <td>1</td>\n",
       "      <td>0</td>\n",
       "      <td>1</td>\n",
       "      <td>15</td>\n",
       "      <td>180</td>\n",
       "      <td>0</td>\n",
       "      <td>63</td>\n",
       "      <td>69</td>\n",
       "      <td>54</td>\n",
       "      <td>57</td>\n",
       "      <td>65.0</td>\n",
       "      <td>305</td>\n",
       "    </tr>\n",
       "    <tr>\n",
       "      <th>1</th>\n",
       "      <td>1</td>\n",
       "      <td>13</td>\n",
       "      <td>1</td>\n",
       "      <td>1</td>\n",
       "      <td>1</td>\n",
       "      <td>0</td>\n",
       "      <td>2</td>\n",
       "      <td>45</td>\n",
       "      <td>45</td>\n",
       "      <td>0</td>\n",
       "      <td>54</td>\n",
       "      <td>50</td>\n",
       "      <td>50</td>\n",
       "      <td>40</td>\n",
       "      <td>48.0</td>\n",
       "      <td>242</td>\n",
       "    </tr>\n",
       "    <tr>\n",
       "      <th>2</th>\n",
       "      <td>1</td>\n",
       "      <td>31</td>\n",
       "      <td>2</td>\n",
       "      <td>0</td>\n",
       "      <td>0</td>\n",
       "      <td>0</td>\n",
       "      <td>2</td>\n",
       "      <td>15</td>\n",
       "      <td>45</td>\n",
       "      <td>1</td>\n",
       "      <td>59</td>\n",
       "      <td>43</td>\n",
       "      <td>46</td>\n",
       "      <td>45</td>\n",
       "      <td>47.0</td>\n",
       "      <td>241</td>\n",
       "    </tr>\n",
       "    <tr>\n",
       "      <th>3</th>\n",
       "      <td>1</td>\n",
       "      <td>6</td>\n",
       "      <td>3</td>\n",
       "      <td>1</td>\n",
       "      <td>1</td>\n",
       "      <td>1</td>\n",
       "      <td>1</td>\n",
       "      <td>15</td>\n",
       "      <td>180</td>\n",
       "      <td>0</td>\n",
       "      <td>61</td>\n",
       "      <td>60</td>\n",
       "      <td>60</td>\n",
       "      <td>67</td>\n",
       "      <td>63.0</td>\n",
       "      <td>310</td>\n",
       "    </tr>\n",
       "    <tr>\n",
       "      <th>4</th>\n",
       "      <td>1</td>\n",
       "      <td>15</td>\n",
       "      <td>2</td>\n",
       "      <td>1</td>\n",
       "      <td>1</td>\n",
       "      <td>0</td>\n",
       "      <td>1</td>\n",
       "      <td>15</td>\n",
       "      <td>120</td>\n",
       "      <td>0</td>\n",
       "      <td>56</td>\n",
       "      <td>51</td>\n",
       "      <td>48</td>\n",
       "      <td>49</td>\n",
       "      <td>56.0</td>\n",
       "      <td>257</td>\n",
       "    </tr>\n",
       "  </tbody>\n",
       "</table>\n",
       "</div>"
      ],
      "text/plain": [
       "   ESTU_GENERO  ESTU_DEPTO_RESIDE  FAMI_ESTRATOVIVIENDA  FAMI_TIENEINTERNET  \\\n",
       "0            1                  4                     2                   1   \n",
       "1            1                 13                     1                   1   \n",
       "2            1                 31                     2                   0   \n",
       "3            1                  6                     3                   1   \n",
       "4            1                 15                     2                   1   \n",
       "\n",
       "   FAMI_TIENESERVICIOTV  FAMI_TIENECOMPUTADOR  FAMI_SITUACIONECONOMICA  \\\n",
       "0                     1                     0                        1   \n",
       "1                     1                     0                        2   \n",
       "2                     0                     0                        2   \n",
       "3                     1                     1                        1   \n",
       "4                     1                     0                        1   \n",
       "\n",
       "   ESTU_DEDICACIONLECTURADIARIA  ESTU_DEDICACIONINTERNET  COLE_AREA_UBICACION  \\\n",
       "0                            15                      180                    0   \n",
       "1                            45                       45                    0   \n",
       "2                            15                       45                    1   \n",
       "3                            15                      180                    0   \n",
       "4                            15                      120                    0   \n",
       "\n",
       "   PUNT_LECTURA_CRITICA  PUNT_MATEMATICAS  PUNT_C_NATURALES  \\\n",
       "0                    63                69                54   \n",
       "1                    54                50                50   \n",
       "2                    59                43                46   \n",
       "3                    61                60                60   \n",
       "4                    56                51                48   \n",
       "\n",
       "   PUNT_SOCIALES_CIUDADANAS  PUNT_INGLES  PUNT_GLOBAL  \n",
       "0                        57         65.0          305  \n",
       "1                        40         48.0          242  \n",
       "2                        45         47.0          241  \n",
       "3                        67         63.0          310  \n",
       "4                        49         56.0          257  "
      ]
     },
     "execution_count": 2,
     "metadata": {},
     "output_type": "execute_result"
    }
   ],
   "source": [
    "datos = pd.read_csv(\"Datos/datos\")\n",
    "print (datos.shape)\n",
    "datos.head()"
   ]
  },
  {
   "cell_type": "markdown",
   "metadata": {},
   "source": [
    "## Cantidad total de hombres y mujeres que presentaron la prueba"
   ]
  },
  {
   "cell_type": "code",
   "execution_count": 3,
   "metadata": {},
   "outputs": [
    {
     "name": "stdout",
     "output_type": "stream",
     "text": [
      "0 267840\n",
      "1 227016\n"
     ]
    }
   ],
   "source": [
    "for i in np.unique(datos['ESTU_GENERO']):\n",
    "    print (i, np.sum(datos['ESTU_GENERO']==i))"
   ]
  },
  {
   "cell_type": "markdown",
   "metadata": {},
   "source": [
    "<center><img src=\"img/hombres y mujeres.png\" style=\"width:350px;\"></center>"
   ]
  },
  {
   "cell_type": "markdown",
   "metadata": {},
   "source": [
    "## Cantidad total de estudiantes por departamento"
   ]
  },
  {
   "cell_type": "code",
   "execution_count": 4,
   "metadata": {},
   "outputs": [],
   "source": [
    "lista = {i: np.sum(datos['ESTU_DEPTO_RESIDE']==i) for i in np.unique(datos['ESTU_DEPTO_RESIDE'])}\n",
    "dt = pd.DataFrame.from_dict(lista, orient='Index')\n"
   ]
  },
  {
   "cell_type": "markdown",
   "metadata": {},
   "source": [
    "<center><img src=\"img/frecuencia.png\" style=\"width:950px;\"></center>"
   ]
  },
  {
   "cell_type": "markdown",
   "metadata": {},
   "source": [
    "## Cuantificando si tiene servicio de internet"
   ]
  },
  {
   "cell_type": "code",
   "execution_count": 5,
   "metadata": {},
   "outputs": [
    {
     "name": "stdout",
     "output_type": "stream",
     "text": [
      "0 203976\n",
      "1 290880\n"
     ]
    }
   ],
   "source": [
    "for i in np.unique(datos['FAMI_TIENEINTERNET']):\n",
    "    print (i, np.sum(datos['FAMI_TIENEINTERNET']==i))"
   ]
  },
  {
   "cell_type": "markdown",
   "metadata": {},
   "source": [
    "<center><img src=\"img/servicio internet.png\" style=\"width:350px;\"></center>"
   ]
  },
  {
   "cell_type": "markdown",
   "metadata": {},
   "source": [
    "## Cuantificando si tienen computador"
   ]
  },
  {
   "cell_type": "code",
   "execution_count": 6,
   "metadata": {},
   "outputs": [
    {
     "name": "stdout",
     "output_type": "stream",
     "text": [
      "0 205840\n",
      "1 289016\n"
     ]
    }
   ],
   "source": [
    "for i in np.unique(datos['FAMI_TIENECOMPUTADOR']):\n",
    "    print (i, np.sum(datos['FAMI_TIENECOMPUTADOR']==i))"
   ]
  },
  {
   "cell_type": "markdown",
   "metadata": {},
   "source": [
    "<center><img src=\"img/tiene computador.png\" style=\"width:350px;\"></center>"
   ]
  },
  {
   "cell_type": "markdown",
   "metadata": {},
   "source": [
    "## Cuantificando la dedicación media a navegar por internet (en minutos)"
   ]
  },
  {
   "cell_type": "code",
   "execution_count": 7,
   "metadata": {},
   "outputs": [
    {
     "name": "stdout",
     "output_type": "stream",
     "text": [
      "0 31263\n",
      "15 93078\n",
      "45 129677\n",
      "120 144809\n",
      "180 96029\n"
     ]
    }
   ],
   "source": [
    "for i in np.unique(datos['ESTU_DEDICACIONINTERNET']):\n",
    "    print (i, np.sum(datos['ESTU_DEDICACIONINTERNET']==i))"
   ]
  },
  {
   "cell_type": "markdown",
   "metadata": {},
   "source": [
    "<center><img src=\"img/minutos internet.png\" style=\"width:350px;\"></center>"
   ]
  },
  {
   "cell_type": "markdown",
   "metadata": {},
   "source": [
    "## Cuantificando la dedicación media dedicación lectura diaria (en minutos)"
   ]
  },
  {
   "cell_type": "code",
   "execution_count": 8,
   "metadata": {},
   "outputs": [
    {
     "name": "stdout",
     "output_type": "stream",
     "text": [
      "0 88708\n",
      "15 193195\n",
      "45 137200\n",
      "90 55526\n",
      "120 20227\n"
     ]
    }
   ],
   "source": [
    "for i in np.unique(datos['ESTU_DEDICACIONLECTURADIARIA']):\n",
    "    print (i, np.sum(datos['ESTU_DEDICACIONLECTURADIARIA']==i))"
   ]
  },
  {
   "cell_type": "markdown",
   "metadata": {},
   "source": [
    "<center><img src=\"img/lectura diaria.png\" style=\"width:350px;\"></center>"
   ]
  },
  {
   "cell_type": "markdown",
   "metadata": {},
   "source": [
    "## Cuantificando la cantidad de estudiantes que viven en zonas rurales o urbanas"
   ]
  },
  {
   "cell_type": "code",
   "execution_count": 9,
   "metadata": {},
   "outputs": [
    {
     "name": "stdout",
     "output_type": "stream",
     "text": [
      "0 420189\n",
      "1 74667\n"
     ]
    }
   ],
   "source": [
    "for i in np.unique(datos['COLE_AREA_UBICACION']):\n",
    "    print (i, np.sum(datos['COLE_AREA_UBICACION']==i))"
   ]
  },
  {
   "cell_type": "markdown",
   "metadata": {},
   "source": [
    "<center><img src=\"img/rural urbano.png\" style=\"width:350px;\"></center>"
   ]
  },
  {
   "cell_type": "markdown",
   "metadata": {},
   "source": [
    "## Cuantificando la cantidad de estudiantes que viven en los diferentes estratos sociales"
   ]
  },
  {
   "cell_type": "code",
   "execution_count": 10,
   "metadata": {},
   "outputs": [
    {
     "name": "stdout",
     "output_type": "stream",
     "text": [
      "0 13820\n",
      "1 164238\n",
      "2 182769\n",
      "3 100969\n",
      "4 22718\n",
      "5 7092\n",
      "6 3250\n"
     ]
    }
   ],
   "source": [
    "for i in np.unique(datos['FAMI_ESTRATOVIVIENDA']):\n",
    "    print (i, np.sum(datos['FAMI_ESTRATOVIVIENDA']==i))"
   ]
  },
  {
   "cell_type": "markdown",
   "metadata": {},
   "source": [
    "<center><img src=\"img/estratos.png\" style=\"width:350px;\"></center>"
   ]
  },
  {
   "cell_type": "markdown",
   "metadata": {},
   "source": [
    "## Calculando el Factor Social para cada estudiante"
   ]
  },
  {
   "cell_type": "code",
   "execution_count": 11,
   "metadata": {},
   "outputs": [],
   "source": [
    "media = np.mean(datos.values[:, 2:9], axis=1)\n",
    "media = np.reshape(media, (494856,1))\n",
    "datos = np.concatenate((datos,media), axis=1)"
   ]
  },
  {
   "cell_type": "code",
   "execution_count": 12,
   "metadata": {},
   "outputs": [
    {
     "data": {
      "text/html": [
       "<div>\n",
       "<style scoped>\n",
       "    .dataframe tbody tr th:only-of-type {\n",
       "        vertical-align: middle;\n",
       "    }\n",
       "\n",
       "    .dataframe tbody tr th {\n",
       "        vertical-align: top;\n",
       "    }\n",
       "\n",
       "    .dataframe thead th {\n",
       "        text-align: right;\n",
       "    }\n",
       "</style>\n",
       "<table border=\"1\" class=\"dataframe\">\n",
       "  <thead>\n",
       "    <tr style=\"text-align: right;\">\n",
       "      <th></th>\n",
       "      <th>ESTU_GENERO</th>\n",
       "      <th>ESTU_DEPTO_RESIDE</th>\n",
       "      <th>FAMI_ESTRATOVIVIENDA</th>\n",
       "      <th>FAMI_TIENEINTERNET</th>\n",
       "      <th>FAMI_TIENESERVICIOTV</th>\n",
       "      <th>FAMI_TIENECOMPUTADOR</th>\n",
       "      <th>FAMI_SITUACIONECONOMICA</th>\n",
       "      <th>ESTU_DEDICACIONLECTURADIARIA</th>\n",
       "      <th>ESTU_DEDICACIONINTERNET</th>\n",
       "      <th>COLE_AREA_UBICACION</th>\n",
       "      <th>PUNT_LECTURA_CRITICA</th>\n",
       "      <th>PUNT_MATEMATICAS</th>\n",
       "      <th>PUNT_C_NATURALES</th>\n",
       "      <th>PUNT_SOCIALES_CIUDADANAS</th>\n",
       "      <th>PUNT_INGLES</th>\n",
       "      <th>PUNT_GLOBAL</th>\n",
       "      <th>FACTOR_SOCIAL</th>\n",
       "    </tr>\n",
       "  </thead>\n",
       "  <tbody>\n",
       "    <tr>\n",
       "      <th>0</th>\n",
       "      <td>1.0</td>\n",
       "      <td>4.0</td>\n",
       "      <td>2.0</td>\n",
       "      <td>1.0</td>\n",
       "      <td>1.0</td>\n",
       "      <td>0.0</td>\n",
       "      <td>1.0</td>\n",
       "      <td>15.0</td>\n",
       "      <td>180.0</td>\n",
       "      <td>0.0</td>\n",
       "      <td>63.0</td>\n",
       "      <td>69.0</td>\n",
       "      <td>54.0</td>\n",
       "      <td>57.0</td>\n",
       "      <td>65.0</td>\n",
       "      <td>305.0</td>\n",
       "      <td>28.571429</td>\n",
       "    </tr>\n",
       "    <tr>\n",
       "      <th>1</th>\n",
       "      <td>1.0</td>\n",
       "      <td>13.0</td>\n",
       "      <td>1.0</td>\n",
       "      <td>1.0</td>\n",
       "      <td>1.0</td>\n",
       "      <td>0.0</td>\n",
       "      <td>2.0</td>\n",
       "      <td>45.0</td>\n",
       "      <td>45.0</td>\n",
       "      <td>0.0</td>\n",
       "      <td>54.0</td>\n",
       "      <td>50.0</td>\n",
       "      <td>50.0</td>\n",
       "      <td>40.0</td>\n",
       "      <td>48.0</td>\n",
       "      <td>242.0</td>\n",
       "      <td>13.571429</td>\n",
       "    </tr>\n",
       "    <tr>\n",
       "      <th>2</th>\n",
       "      <td>1.0</td>\n",
       "      <td>31.0</td>\n",
       "      <td>2.0</td>\n",
       "      <td>0.0</td>\n",
       "      <td>0.0</td>\n",
       "      <td>0.0</td>\n",
       "      <td>2.0</td>\n",
       "      <td>15.0</td>\n",
       "      <td>45.0</td>\n",
       "      <td>1.0</td>\n",
       "      <td>59.0</td>\n",
       "      <td>43.0</td>\n",
       "      <td>46.0</td>\n",
       "      <td>45.0</td>\n",
       "      <td>47.0</td>\n",
       "      <td>241.0</td>\n",
       "      <td>9.142857</td>\n",
       "    </tr>\n",
       "    <tr>\n",
       "      <th>3</th>\n",
       "      <td>1.0</td>\n",
       "      <td>6.0</td>\n",
       "      <td>3.0</td>\n",
       "      <td>1.0</td>\n",
       "      <td>1.0</td>\n",
       "      <td>1.0</td>\n",
       "      <td>1.0</td>\n",
       "      <td>15.0</td>\n",
       "      <td>180.0</td>\n",
       "      <td>0.0</td>\n",
       "      <td>61.0</td>\n",
       "      <td>60.0</td>\n",
       "      <td>60.0</td>\n",
       "      <td>67.0</td>\n",
       "      <td>63.0</td>\n",
       "      <td>310.0</td>\n",
       "      <td>28.857143</td>\n",
       "    </tr>\n",
       "    <tr>\n",
       "      <th>4</th>\n",
       "      <td>1.0</td>\n",
       "      <td>15.0</td>\n",
       "      <td>2.0</td>\n",
       "      <td>1.0</td>\n",
       "      <td>1.0</td>\n",
       "      <td>0.0</td>\n",
       "      <td>1.0</td>\n",
       "      <td>15.0</td>\n",
       "      <td>120.0</td>\n",
       "      <td>0.0</td>\n",
       "      <td>56.0</td>\n",
       "      <td>51.0</td>\n",
       "      <td>48.0</td>\n",
       "      <td>49.0</td>\n",
       "      <td>56.0</td>\n",
       "      <td>257.0</td>\n",
       "      <td>20.000000</td>\n",
       "    </tr>\n",
       "  </tbody>\n",
       "</table>\n",
       "</div>"
      ],
      "text/plain": [
       "   ESTU_GENERO  ESTU_DEPTO_RESIDE  FAMI_ESTRATOVIVIENDA  FAMI_TIENEINTERNET  \\\n",
       "0          1.0                4.0                   2.0                 1.0   \n",
       "1          1.0               13.0                   1.0                 1.0   \n",
       "2          1.0               31.0                   2.0                 0.0   \n",
       "3          1.0                6.0                   3.0                 1.0   \n",
       "4          1.0               15.0                   2.0                 1.0   \n",
       "\n",
       "   FAMI_TIENESERVICIOTV  FAMI_TIENECOMPUTADOR  FAMI_SITUACIONECONOMICA  \\\n",
       "0                   1.0                   0.0                      1.0   \n",
       "1                   1.0                   0.0                      2.0   \n",
       "2                   0.0                   0.0                      2.0   \n",
       "3                   1.0                   1.0                      1.0   \n",
       "4                   1.0                   0.0                      1.0   \n",
       "\n",
       "   ESTU_DEDICACIONLECTURADIARIA  ESTU_DEDICACIONINTERNET  COLE_AREA_UBICACION  \\\n",
       "0                          15.0                    180.0                  0.0   \n",
       "1                          45.0                     45.0                  0.0   \n",
       "2                          15.0                     45.0                  1.0   \n",
       "3                          15.0                    180.0                  0.0   \n",
       "4                          15.0                    120.0                  0.0   \n",
       "\n",
       "   PUNT_LECTURA_CRITICA  PUNT_MATEMATICAS  PUNT_C_NATURALES  \\\n",
       "0                  63.0              69.0              54.0   \n",
       "1                  54.0              50.0              50.0   \n",
       "2                  59.0              43.0              46.0   \n",
       "3                  61.0              60.0              60.0   \n",
       "4                  56.0              51.0              48.0   \n",
       "\n",
       "   PUNT_SOCIALES_CIUDADANAS  PUNT_INGLES  PUNT_GLOBAL  FACTOR_SOCIAL  \n",
       "0                      57.0         65.0        305.0      28.571429  \n",
       "1                      40.0         48.0        242.0      13.571429  \n",
       "2                      45.0         47.0        241.0       9.142857  \n",
       "3                      67.0         63.0        310.0      28.857143  \n",
       "4                      49.0         56.0        257.0      20.000000  "
      ]
     },
     "execution_count": 12,
     "metadata": {},
     "output_type": "execute_result"
    }
   ],
   "source": [
    "datos = pd.DataFrame(data=datos)\n",
    "datos.columns = ['ESTU_GENERO','ESTU_DEPTO_RESIDE','FAMI_ESTRATOVIVIENDA','FAMI_TIENEINTERNET', 'FAMI_TIENESERVICIOTV' ,'FAMI_TIENECOMPUTADOR','FAMI_SITUACIONECONOMICA','ESTU_DEDICACIONLECTURADIARIA','ESTU_DEDICACIONINTERNET', 'COLE_AREA_UBICACION', 'PUNT_LECTURA_CRITICA','PUNT_MATEMATICAS','PUNT_C_NATURALES','PUNT_SOCIALES_CIUDADANAS','PUNT_INGLES','PUNT_GLOBAL', 'FACTOR_SOCIAL']\n",
    "\n",
    "datos.head()"
   ]
  },
  {
   "cell_type": "markdown",
   "metadata": {},
   "source": [
    "## El rango del puntaje del factor social (media entre los diferentes valores sociales)  $[0 - 44.4285]$ "
   ]
  },
  {
   "cell_type": "code",
   "execution_count": 13,
   "metadata": {},
   "outputs": [
    {
     "data": {
      "text/plain": [
       "ESTU_GENERO                       1.000000\n",
       "ESTU_DEPTO_RESIDE                33.000000\n",
       "FAMI_ESTRATOVIVIENDA              6.000000\n",
       "FAMI_TIENEINTERNET                1.000000\n",
       "FAMI_TIENESERVICIOTV              1.000000\n",
       "FAMI_TIENECOMPUTADOR              1.000000\n",
       "FAMI_SITUACIONECONOMICA           2.000000\n",
       "ESTU_DEDICACIONLECTURADIARIA    120.000000\n",
       "ESTU_DEDICACIONINTERNET         180.000000\n",
       "COLE_AREA_UBICACION               1.000000\n",
       "PUNT_LECTURA_CRITICA            100.000000\n",
       "PUNT_MATEMATICAS                100.000000\n",
       "PUNT_C_NATURALES                100.000000\n",
       "PUNT_SOCIALES_CIUDADANAS        100.000000\n",
       "PUNT_INGLES                     100.000000\n",
       "PUNT_GLOBAL                     478.000000\n",
       "FACTOR_SOCIAL                    44.428571\n",
       "dtype: float64"
      ]
     },
     "execution_count": 13,
     "metadata": {},
     "output_type": "execute_result"
    }
   ],
   "source": [
    "np.amax(datos)"
   ]
  },
  {
   "cell_type": "markdown",
   "metadata": {},
   "source": [
    "## ¿Qué hay de los estudiantes con el factor social más alto?"
   ]
  },
  {
   "cell_type": "code",
   "execution_count": 19,
   "metadata": {},
   "outputs": [
    {
     "name": "stdout",
     "output_type": "stream",
     "text": [
      "Cantidad de estudiantes (6167, 17)\n",
      "Media Punt Global de estudiantes con factor social alto : 278.50251337765525 Desv Est 49.907785422057884\n",
      "1.246221122912524  % de la población total\n"
     ]
    }
   ],
   "source": [
    "alto = datos.loc[datos['FACTOR_SOCIAL']>40] \n",
    "print (\"Cantidad de estudiantes\", alto.shape)\n",
    "print (\"Media Punt Global de estudiantes con factor social alto :\", np.mean(alto['PUNT_GLOBAL']) , \"Desv Est\", np.std(alto['PUNT_GLOBAL']))\n",
    "relacion = (6167.00/494856.0)*100\n",
    "print (relacion , \" % de la población total\")"
   ]
  },
  {
   "cell_type": "markdown",
   "metadata": {},
   "source": [
    "<center><img src=\"img/factor social.png\" style=\"width:350px;\"></center>"
   ]
  },
  {
   "cell_type": "markdown",
   "metadata": {},
   "source": [
    "## ¿Qué hay de los estudiantes con el factor social más bajos?"
   ]
  },
  {
   "cell_type": "code",
   "execution_count": 20,
   "metadata": {},
   "outputs": [
    {
     "name": "stdout",
     "output_type": "stream",
     "text": [
      "(187580, 17)\n",
      "Media de punt global de los estudiantes con factor social bajo:  238.09107047659666 45.18737035163109\n",
      "37.90597668816787  % de la muestra total \n"
     ]
    }
   ],
   "source": [
    "bajo = datos.loc[datos['FACTOR_SOCIAL']<10]\n",
    "print (bajo.shape)\n",
    "print (\"Media de punt global de los estudiantes con factor social bajo: \", np.mean(bajo['PUNT_GLOBAL']), np.std(bajo['PUNT_GLOBAL']))\n",
    "relacion2 = (187580.0/494856)*100\n",
    "print (relacion2 , \" % de la muestra total \")\n"
   ]
  },
  {
   "cell_type": "markdown",
   "metadata": {},
   "source": [
    "<center><img src=\"img/factor social bajo.png\" style=\"width:350px;\"></center>"
   ]
  },
  {
   "cell_type": "markdown",
   "metadata": {},
   "source": [
    "## ¿El impacto del Internet es de relevancia para el puntaje global?"
   ]
  },
  {
   "cell_type": "code",
   "execution_count": 21,
   "metadata": {},
   "outputs": [
    {
     "name": "stdout",
     "output_type": "stream",
     "text": [
      "Media Punt Global Si 264.98508648076245 Desv Est:  50.03219982470764\n",
      "Media Punt Global No 236.04294132643057 Desv Est:  43.66681008681045\n"
     ]
    }
   ],
   "source": [
    "# -------------------- La misma cantidad para no alterar la medición -----------------\n",
    "\n",
    "internet = datos.loc[datos['FAMI_TIENEINTERNET']==1][:203976]\n",
    "nInternet = datos.loc[datos['FAMI_TIENEINTERNET']==0][:203976]\n",
    "\n",
    "print (\"Media Punt Global Si\",np.mean(internet['PUNT_GLOBAL']), \"Desv Est: \",np.std(internet['PUNT_GLOBAL']))\n",
    "print (\"Media Punt Global No\",np.mean(nInternet['PUNT_GLOBAL']),\"Desv Est: \" ,np.std(nInternet['PUNT_GLOBAL']))\n"
   ]
  },
  {
   "cell_type": "markdown",
   "metadata": {},
   "source": [
    "## ¿La situación económica puede influir positiva o negativamente?"
   ]
  },
  {
   "cell_type": "code",
   "execution_count": 22,
   "metadata": {},
   "outputs": [
    {
     "name": "stdout",
     "output_type": "stream",
     "text": [
      "Media Punt Global Mejor 245.98916683654153 Desv Est:  50.281111383071845\n",
      "Media Punt Global Regular 255.7744547016512 Desv Est:  48.907021078629334\n",
      "Media Punt Global Peor 261.94603803255774 Desv Est:  50.01625875275216\n"
     ]
    }
   ],
   "source": [
    "# -------------------- La misma cantidad para no alterar la medición -----------------\n",
    "\n",
    "mejor = datos.loc[datos['FAMI_SITUACIONECONOMICA']==2][:68678]\n",
    "regular = datos.loc[datos['FAMI_SITUACIONECONOMICA']==1][:68678]\n",
    "peor = datos.loc[datos['FAMI_SITUACIONECONOMICA']==0][:68678]\n",
    "\n",
    "print (\"Media Punt Global Mejor\",np.mean(mejor['PUNT_GLOBAL']), \"Desv Est: \",np.std(mejor['PUNT_GLOBAL']))\n",
    "print (\"Media Punt Global Regular\",np.mean(regular['PUNT_GLOBAL']), \"Desv Est: \",np.std(regular['PUNT_GLOBAL']))\n",
    "print (\"Media Punt Global Peor\",np.mean(peor['PUNT_GLOBAL']), \"Desv Est: \",np.std(peor['PUNT_GLOBAL']))\n"
   ]
  },
  {
   "cell_type": "markdown",
   "metadata": {},
   "source": [
    "## Los departamentos y sus puntajes medios globales"
   ]
  },
  {
   "cell_type": "code",
   "execution_count": 23,
   "metadata": {},
   "outputs": [],
   "source": [
    "dic = {i : np.mean(datos.loc[datos['ESTU_DEPTO_RESIDE']==i]['PUNT_GLOBAL']) for i in np.unique(datos['ESTU_DEPTO_RESIDE'])}\n",
    "\n",
    "mDepar = pd.DataFrame.from_dict(dic, orient='Index')\n"
   ]
  },
  {
   "cell_type": "markdown",
   "metadata": {},
   "source": [
    "<center><img src=\"img/global.png\" style=\"width:400px;\"></center>"
   ]
  },
  {
   "cell_type": "markdown",
   "metadata": {},
   "source": [
    "## Los departamentos y sus puntajes medios de factor social"
   ]
  },
  {
   "cell_type": "code",
   "execution_count": 24,
   "metadata": {},
   "outputs": [],
   "source": [
    "fac = {i : np.mean(datos.loc[datos['ESTU_DEPTO_RESIDE']==i]['FACTOR_SOCIAL']) for i in np.unique(datos['ESTU_DEPTO_RESIDE'])}\n",
    "\n",
    "dicFac = pd.DataFrame.from_dict(fac, orient='Index')\n",
    "\n",
    "dicFac.columns = ['FACTOR_SOCIAL']\n"
   ]
  },
  {
   "cell_type": "markdown",
   "metadata": {},
   "source": [
    "<center><img src=\"img/media.png\" style=\"width:500px;\"></center>"
   ]
  },
  {
   "cell_type": "markdown",
   "metadata": {},
   "source": [
    "## Los departamentos con Factor Social más bajo"
   ]
  },
  {
   "cell_type": "code",
   "execution_count": 25,
   "metadata": {},
   "outputs": [
    {
     "data": {
      "text/html": [
       "<div>\n",
       "<style scoped>\n",
       "    .dataframe tbody tr th:only-of-type {\n",
       "        vertical-align: middle;\n",
       "    }\n",
       "\n",
       "    .dataframe tbody tr th {\n",
       "        vertical-align: top;\n",
       "    }\n",
       "\n",
       "    .dataframe thead th {\n",
       "        text-align: right;\n",
       "    }\n",
       "</style>\n",
       "<table border=\"1\" class=\"dataframe\">\n",
       "  <thead>\n",
       "    <tr style=\"text-align: right;\">\n",
       "      <th></th>\n",
       "      <th>FACTOR_SOCIAL</th>\n",
       "    </tr>\n",
       "  </thead>\n",
       "  <tbody>\n",
       "    <tr>\n",
       "      <th>1.0</th>\n",
       "      <td>13.288519</td>\n",
       "    </tr>\n",
       "    <tr>\n",
       "      <th>3.0</th>\n",
       "      <td>13.681991</td>\n",
       "    </tr>\n",
       "    <tr>\n",
       "      <th>10.0</th>\n",
       "      <td>13.499767</td>\n",
       "    </tr>\n",
       "    <tr>\n",
       "      <th>16.0</th>\n",
       "      <td>12.686397</td>\n",
       "    </tr>\n",
       "    <tr>\n",
       "      <th>22.0</th>\n",
       "      <td>14.255645</td>\n",
       "    </tr>\n",
       "    <tr>\n",
       "      <th>24.0</th>\n",
       "      <td>12.751980</td>\n",
       "    </tr>\n",
       "    <tr>\n",
       "      <th>32.0</th>\n",
       "      <td>11.335404</td>\n",
       "    </tr>\n",
       "    <tr>\n",
       "      <th>33.0</th>\n",
       "      <td>13.058271</td>\n",
       "    </tr>\n",
       "  </tbody>\n",
       "</table>\n",
       "</div>"
      ],
      "text/plain": [
       "      FACTOR_SOCIAL\n",
       "1.0       13.288519\n",
       "3.0       13.681991\n",
       "10.0      13.499767\n",
       "16.0      12.686397\n",
       "22.0      14.255645\n",
       "24.0      12.751980\n",
       "32.0      11.335404\n",
       "33.0      13.058271"
      ]
     },
     "execution_count": 25,
     "metadata": {},
     "output_type": "execute_result"
    }
   ],
   "source": [
    "dicFac.loc[dicFac['FACTOR_SOCIAL']<=14.5] \n"
   ]
  },
  {
   "cell_type": "markdown",
   "metadata": {},
   "source": [
    "<center><img src=\"img/Peores_.png\" style=\"width:450px;\"></center>"
   ]
  },
  {
   "cell_type": "markdown",
   "metadata": {},
   "source": [
    "## Los departamentos con Factor Social más alto"
   ]
  },
  {
   "cell_type": "code",
   "execution_count": 26,
   "metadata": {},
   "outputs": [
    {
     "data": {
      "text/html": [
       "<div>\n",
       "<style scoped>\n",
       "    .dataframe tbody tr th:only-of-type {\n",
       "        vertical-align: middle;\n",
       "    }\n",
       "\n",
       "    .dataframe tbody tr th {\n",
       "        vertical-align: top;\n",
       "    }\n",
       "\n",
       "    .dataframe thead th {\n",
       "        text-align: right;\n",
       "    }\n",
       "</style>\n",
       "<table border=\"1\" class=\"dataframe\">\n",
       "  <thead>\n",
       "    <tr style=\"text-align: right;\">\n",
       "      <th></th>\n",
       "      <th>FACTOR_SOCIAL</th>\n",
       "    </tr>\n",
       "  </thead>\n",
       "  <tbody>\n",
       "    <tr>\n",
       "      <th>2.0</th>\n",
       "      <td>18.687555</td>\n",
       "    </tr>\n",
       "    <tr>\n",
       "      <th>4.0</th>\n",
       "      <td>19.191311</td>\n",
       "    </tr>\n",
       "    <tr>\n",
       "      <th>15.0</th>\n",
       "      <td>20.111998</td>\n",
       "    </tr>\n",
       "    <tr>\n",
       "      <th>25.0</th>\n",
       "      <td>18.427961</td>\n",
       "    </tr>\n",
       "    <tr>\n",
       "      <th>26.0</th>\n",
       "      <td>18.807600</td>\n",
       "    </tr>\n",
       "    <tr>\n",
       "      <th>27.0</th>\n",
       "      <td>18.009257</td>\n",
       "    </tr>\n",
       "    <tr>\n",
       "      <th>31.0</th>\n",
       "      <td>18.577128</td>\n",
       "    </tr>\n",
       "  </tbody>\n",
       "</table>\n",
       "</div>"
      ],
      "text/plain": [
       "      FACTOR_SOCIAL\n",
       "2.0       18.687555\n",
       "4.0       19.191311\n",
       "15.0      20.111998\n",
       "25.0      18.427961\n",
       "26.0      18.807600\n",
       "27.0      18.009257\n",
       "31.0      18.577128"
      ]
     },
     "execution_count": 26,
     "metadata": {},
     "output_type": "execute_result"
    }
   ],
   "source": [
    "dicFac.loc[dicFac['FACTOR_SOCIAL']>=17.5]"
   ]
  },
  {
   "cell_type": "markdown",
   "metadata": {},
   "source": [
    "<center><img src=\"img/Mejores_.png\" style=\"width:450px;\"></center>"
   ]
  },
  {
   "cell_type": "markdown",
   "metadata": {},
   "source": [
    "## Puntaje medio de Matemáticas por departamento"
   ]
  },
  {
   "cell_type": "code",
   "execution_count": 27,
   "metadata": {},
   "outputs": [],
   "source": [
    "mat = {i : np.mean(datos.loc[datos['ESTU_DEPTO_RESIDE']==i]['PUNT_MATEMATICAS']) for i in np.unique(datos['ESTU_DEPTO_RESIDE'])}\n",
    "\n",
    "dicMat = pd.DataFrame.from_dict(mat, orient='Index')"
   ]
  },
  {
   "cell_type": "markdown",
   "metadata": {},
   "source": [
    "<center><img src=\"img/matematica.png\" style=\"width:450px;\"></center>"
   ]
  },
  {
   "cell_type": "markdown",
   "metadata": {},
   "source": [
    "## Puntaje medio de Lectura Crítica por Departamento\n"
   ]
  },
  {
   "cell_type": "code",
   "execution_count": 28,
   "metadata": {},
   "outputs": [],
   "source": [
    "lec = {i : np.mean(datos.loc[datos['ESTU_DEPTO_RESIDE']==i]['PUNT_LECTURA_CRITICA']) for i in np.unique(datos['ESTU_DEPTO_RESIDE'])}\n",
    "\n",
    "dicLec = pd.DataFrame.from_dict(lec, orient='Index')"
   ]
  },
  {
   "cell_type": "markdown",
   "metadata": {},
   "source": [
    "<center><img src=\"img/lectura.png\" style=\"width:450px;\"></center>"
   ]
  },
  {
   "cell_type": "markdown",
   "metadata": {},
   "source": [
    "## Puntaje Medio de Sociales Ciudadanas por Departamento"
   ]
  },
  {
   "cell_type": "code",
   "execution_count": 29,
   "metadata": {},
   "outputs": [],
   "source": [
    "soc = {i : np.mean(datos.loc[datos['ESTU_DEPTO_RESIDE']==i]['PUNT_SOCIALES_CIUDADANAS']) for i in np.unique(datos['ESTU_DEPTO_RESIDE'])}\n",
    "\n",
    "dicSoc = pd.DataFrame.from_dict(soc, orient='Index')"
   ]
  },
  {
   "cell_type": "markdown",
   "metadata": {},
   "source": [
    "<center><img src=\"img/sociales.png\" style=\"width:450px;\"></center>"
   ]
  },
  {
   "cell_type": "markdown",
   "metadata": {},
   "source": [
    "## Puntaje Medio de Inglés por Departamentos"
   ]
  },
  {
   "cell_type": "code",
   "execution_count": 30,
   "metadata": {},
   "outputs": [],
   "source": [
    "ing = {i : np.mean(datos.loc[datos['ESTU_DEPTO_RESIDE']==i]['PUNT_SOCIALES_CIUDADANAS']) for i in np.unique(datos['ESTU_DEPTO_RESIDE'])}\n",
    "\n",
    "dicIng = pd.DataFrame.from_dict(ing, orient='Index')"
   ]
  },
  {
   "cell_type": "markdown",
   "metadata": {},
   "source": [
    "<center><img src=\"img/ingles.png\" style=\"width:450px;\"></center>"
   ]
  },
  {
   "cell_type": "markdown",
   "metadata": {},
   "source": [
    "## Los factores sociales  más relevantes"
   ]
  },
  {
   "cell_type": "code",
   "execution_count": 31,
   "metadata": {},
   "outputs": [],
   "source": [
    "from sklearn.ensemble import ExtraTreesRegressor\n",
    "from sklearn.feature_selection import SelectFromModel\n",
    "from sklearn.model_selection import KFold\n",
    "from sklearn.metrics import *\n",
    "\n",
    "\n",
    "regresor = ExtraTreesRegressor(n_estimators=300)\n",
    "regresor = regresor.fit(datos.values[:,2:9][:71000], datos.values[:, 10:16][:71000]) # ---> No se pudo realizar con toda la muestra \n"
   ]
  },
  {
   "cell_type": "markdown",
   "metadata": {},
   "source": [
    "## No se considera el género ni el departamento como factor social influyente"
   ]
  },
  {
   "cell_type": "code",
   "execution_count": 32,
   "metadata": {},
   "outputs": [
    {
     "name": "stdout",
     "output_type": "stream",
     "text": [
      "Feature ranking: [19.54637953 31.72768332  4.0343285   7.49784489  9.33858817 15.39955349\n",
      " 12.45562209]\n"
     ]
    }
   ],
   "source": [
    "relevante = regresor.feature_importances_\n",
    "# Print the feature ranking\n",
    "print(\"Feature ranking:\", relevante*100)"
   ]
  },
  {
   "cell_type": "markdown",
   "metadata": {},
   "source": [
    "## Las características más relevantes que definen el Puntaje Global"
   ]
  },
  {
   "cell_type": "code",
   "execution_count": 34,
   "metadata": {},
   "outputs": [
    {
     "name": "stdout",
     "output_type": "stream",
     "text": [
      "79.12923843 %\n"
     ]
    }
   ],
   "source": [
    "caracMas = 19.54637953+31.72768332+15.39955349+12.45562209\n",
    "print(caracMas, \"%\")"
   ]
  },
  {
   "cell_type": "markdown",
   "metadata": {},
   "source": [
    "## Las características como :\n",
    "- Estrato\n",
    "- Serevicio Internet\n",
    "- Dedicación Lectura diaria\n",
    "- Dedicación a navegar por internet\n",
    "\n",
    "### La importancia de estas características en el puntaje global constituye el 75.657% "
   ]
  },
  {
   "cell_type": "markdown",
   "metadata": {},
   "source": [
    "## Considerando el departamento, género y zona de escolaridad (urbana o rural)"
   ]
  },
  {
   "cell_type": "code",
   "execution_count": 35,
   "metadata": {},
   "outputs": [],
   "source": [
    "regresor_ = ExtraTreesRegressor(n_estimators=300)\n",
    "regresor_ = regresor_.fit(datos.values[:,:10][:71000], datos.values[:, 10:16][:71000])"
   ]
  },
  {
   "cell_type": "code",
   "execution_count": 38,
   "metadata": {},
   "outputs": [
    {
     "data": {
      "text/plain": [
       "array([[  1.,   4.,   2.,   1.,   1.,   0.,   1.,  15., 180.,   0.],\n",
       "       [  1.,  13.,   1.,   1.,   1.,   0.,   2.,  45.,  45.,   0.],\n",
       "       [  1.,  31.,   2.,   0.,   0.,   0.,   2.,  15.,  45.,   1.],\n",
       "       [  1.,   6.,   3.,   1.,   1.,   1.,   1.,  15., 180.,   0.],\n",
       "       [  1.,  15.,   2.,   1.,   1.,   0.,   1.,  15., 120.,   0.],\n",
       "       [  1.,  19.,   0.,   0.,   0.,   0.,   1.,  45.,  15.,   1.],\n",
       "       [  1.,   4.,   0.,   1.,   1.,   1.,   1.,   0., 120.,   1.],\n",
       "       [  1.,   7.,   2.,   0.,   1.,   0.,   1.,  15.,  45.,   1.],\n",
       "       [  1.,   6.,   1.,   0.,   0.,   0.,   1.,  45.,  15.,   1.],\n",
       "       [  1.,  11.,   2.,   0.,   1.,   0.,   2.,  15.,   0.,   0.]])"
      ]
     },
     "execution_count": 38,
     "metadata": {},
     "output_type": "execute_result"
    }
   ],
   "source": [
    "datos.values[:,:10][:10]"
   ]
  },
  {
   "cell_type": "code",
   "execution_count": 36,
   "metadata": {},
   "outputs": [
    {
     "name": "stdout",
     "output_type": "stream",
     "text": [
      "Feature ranking: [ 3.03583724 37.62349115 11.3526084  12.31766269  4.35873721  2.89318305\n",
      "  4.74231054  8.86050124 12.13735193  2.67831656]\n"
     ]
    }
   ],
   "source": [
    "relevante_ = regresor_.feature_importances_\n",
    "# Print the feature ranking\n",
    "print(\"Feature ranking:\", relevante_*100)"
   ]
  },
  {
   "cell_type": "markdown",
   "metadata": {},
   "source": [
    "## Nuevas características encontradas que influyen en el puntaje global\n",
    "- Departamento\n",
    "- Estrato\n",
    "- Servicio de Internet \n",
    "- Dedicación a navegar por Internet\n"
   ]
  },
  {
   "cell_type": "code",
   "execution_count": 41,
   "metadata": {},
   "outputs": [
    {
     "name": "stdout",
     "output_type": "stream",
     "text": [
      "73.43111417 $%\n"
     ]
    }
   ],
   "source": [
    "b = 37.62349115+11.3526084+12.31766269+12.13735193\n",
    "print (b, \"$%\")"
   ]
  }
 ],
 "metadata": {
  "kernelspec": {
   "display_name": "Python 3",
   "language": "python",
   "name": "python3"
  },
  "language_info": {
   "codemirror_mode": {
    "name": "ipython",
    "version": 3
   },
   "file_extension": ".py",
   "mimetype": "text/x-python",
   "name": "python",
   "nbconvert_exporter": "python",
   "pygments_lexer": "ipython3",
   "version": "3.7.1"
  }
 },
 "nbformat": 4,
 "nbformat_minor": 2
}
