{
 "cells": [
  {
   "cell_type": "markdown",
   "metadata": {},
   "source": [
    "# Proyecto IA \n",
    "**Proyecto enfocado a la predicción de puntajes Saber 11 , tomando como referencia factores sociales cuantitativos relevantes y determinantes.\n",
    "Los datos son proporcionados por la plataforma www.datos.gov.co. A través del siguiente enlace podrá exportar el archivo en formato CSV https://www.datos.gov.co/Educaci-n/Saber-11-2018-2/m2nt-jw2h**\n"
   ]
  },
  {
   "cell_type": "markdown",
   "metadata": {},
   "source": [
    "_La modificación de los datos es necesaria. Se realizaron cambios en los campos por valores numéricos totalmente relacionados con los valores de las características:_\n",
    "\n",
    "1. Los valores del campo ESTU_GENERO han sido reemplazados por 0 (femenino) y 1 (masculino).\n",
    "2. Los valores del campo ESTU_DEPTO_RESIDE han sido reemplazados por valores numéricos con respecto al orden alfabético de los nombres de los departamentos\n",
    "3. FAMI_ESTRATOVIVIENDA: 0 (Sin estrato),...,6 (Estrato 6)\n",
    "4. FAMI_TIENEINTERNET: Si (1), No (0)\n",
    "5. FAMI_TIENECOMPUTADOR: Si (1), No (0)\n",
    "6. FAMI_SITUACIONECONOMICA: Peor (0), Igual(1), Mejor(2)\n",
    "\n",
    "_Los siguientes valores (medido en minutos) corresponden a la media de los extremos de los rangos otorgados por el archivo:_\n",
    "\n",
    "1. ESTU_DEDICACIONLECTURADIARIA: 30 minutos o menos (15), Entre 30 y 60 minutos (45), Entre 1 y 3 horas (120), Mas de 2 horas (120), No lee por entretenimiento (0)\n",
    "2. ESTU_DEDICACIONINTERNET: No navega (0), 30 minutos o menos (15), Entre 30 y 60 minutos (45), Entre 1 y 3 horas (120), Mas de 3 horas (180)"
   ]
  },
  {
   "cell_type": "code",
   "execution_count": 3,
   "metadata": {},
   "outputs": [],
   "source": []
  },
  {
   "cell_type": "code",
   "execution_count": null,
   "metadata": {},
   "outputs": [],
   "source": []
  }
 ],
 "metadata": {
  "kernelspec": {
   "display_name": "Python 2",
   "language": "python",
   "name": "python2"
  },
  "language_info": {
   "codemirror_mode": {
    "name": "ipython",
    "version": 2
   },
   "file_extension": ".py",
   "mimetype": "text/x-python",
   "name": "python",
   "nbconvert_exporter": "python",
   "pygments_lexer": "ipython2",
   "version": "2.7.14"
  }
 },
 "nbformat": 4,
 "nbformat_minor": 2
}
