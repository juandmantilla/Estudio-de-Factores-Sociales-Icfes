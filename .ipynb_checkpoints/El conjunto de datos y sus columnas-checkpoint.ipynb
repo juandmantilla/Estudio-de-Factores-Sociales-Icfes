{
 "cells": [
  {
   "cell_type": "markdown",
   "metadata": {},
   "source": [
    "# El conjunto de datos y sus columnas"
   ]
  },
  {
   "cell_type": "markdown",
   "metadata": {},
   "source": [
    "### El conjunto de datos puede ser descargado a través del siguiente enlace :\n",
    "_https://www.datos.gov.co/Educaci-n/Saber-11-2018-2/m2nt-jw2h_"
   ]
  },
  {
   "cell_type": "markdown",
   "metadata": {},
   "source": [
    "Las características que se seleccionaron para este proyecto corresponden a :\n",
    "En formato de Texto Simple:\n",
    "- ESTU_GENERO : Género del estudiante. \n",
    "- ESTU_DEPTO_RESIDE : Departamento donde reside el estudiante.\n",
    "- FAMI_ESTRATOVIVIENDA : Estrato de vivienda donde vive el estudiante\n",
    "- FAMI_TIENEINTERNET : Indica si el estudiante tiene servicio de Internet.\n",
    "- FAMI_TIENESERVICIOTV : Indica si el estudiante tiene servicio de Tv.\n",
    "- FAMI_TIENECOMPUTADOR : Indica si el estudiante tiene o no un computador en su casa.\n",
    "- FAMI_SITUACIONECONOMICA : Situación económica que atraviesa el estudiante al momento de la prueba (Peor, Igual, Mejor)\n",
    "- ESTU_DEDICACIONLECTURADIARIA : Indica la cantidad, en minutos, de la dedicación de lectura del estudiante\n",
    "- ESTU_DEDICACIONINTERNET : Indica la cantidad, en minutos, de la dedicación a navegar por internet del estudiante\n",
    "- COLE_AREA_UBICACION : Área o ubicación del colegio (Urbano o Rural)\n",
    "\n",
    "En formato numérico:\n",
    "- PUNT_LECTURA_CRITICA : Puntaje del estudiante en lectura crítica\n",
    "- PUNT_MATEMATICAS : Puntaje del estudiante en Matemáticas\n",
    "- PUNT_C_NATURALES : Puntaje del estudiante en Ciencias Naturales\n",
    "- PUNT_SOCIALES_CIUDADANAS : Puntaje del estudiante en Ciencias Sociales y Ciudadanía\n",
    "- PUNT_INGLES : Puntaje del estudiante en Inglés.\n",
    "- PUNT_GLOBAL : Puntaje global del estudiante."
   ]
  }
 ],
 "metadata": {
  "kernelspec": {
   "display_name": "Python 3",
   "language": "python",
   "name": "python3"
  },
  "language_info": {
   "codemirror_mode": {
    "name": "ipython",
    "version": 3
   },
   "file_extension": ".py",
   "mimetype": "text/x-python",
   "name": "python",
   "nbconvert_exporter": "python",
   "pygments_lexer": "ipython3",
   "version": "3.7.1"
  }
 },
 "nbformat": 4,
 "nbformat_minor": 2
}
