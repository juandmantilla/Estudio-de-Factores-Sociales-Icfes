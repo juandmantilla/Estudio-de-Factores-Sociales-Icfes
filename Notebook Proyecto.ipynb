{
 "cells": [
  {
   "cell_type": "markdown",
   "metadata": {},
   "source": [
    "# Proyecto IA \n",
    "**Proyecto enfocado a la predicción de puntajes Saber 11 , tomando como referencia factores sociales cuantitativos relevantes y determinantes.\n",
    "Los datos son proporcionados por la plataforma www.datos.gov.co. A través del siguiente enlace podrá exportar el archivo en formato CSV https://www.datos.gov.co/Educaci-n/Saber-11-2018-2/m2nt-jw2h**\n"
   ]
  },
  {
   "cell_type": "markdown",
   "metadata": {},
   "source": [
    "_La modificación de los datos es necesaria. Se realizaron cambios en los campos por valores numéricos totalmente relacionados con los valores de las características:_\n",
    "\n",
    "1. Los valores del campo ESTU_GENERO han sido reemplazados por 0 (femenino) y 1 (masculino).\n",
    "2. Los valores del campo ESTU_DEPTO_RESIDE han sido reemplazados por valores numéricos con respecto al orden alfabético de los nombres de los departamentos\n",
    "3. FAMI_ESTRATOVIVIENDA: 0 (Sin estrato),...,6 (Estrato 6)\n",
    "4. FAMI_TIENEINTERNET: Si (1), No (0)\n",
    "5. FAMI_TIENECOMPUTADOR: Si (1), No (0)\n",
    "6. FAMI_SITUACIONECONOMICA: Peor (0), Igual(1), Mejor(2)\n",
    "\n",
    "_Los siguientes valores (medido en minutos) corresponden a la media de los extremos de los rangos otorgados por el archivo:_\n",
    "\n",
    "1. ESTU_DEDICACIONLECTURADIARIA: 30 minutos o menos (15), Entre 30 y 60 minutos (45), Entre 1 y 3 horas (120), Mas de 2 horas (120), No lee por entretenimiento (0)\n",
    "2. ESTU_DEDICACIONINTERNET: No navega (0), 30 minutos o menos (15), Entre 30 y 60 minutos (45), Entre 1 y 3 horas (120), Mas de 3 horas (180)\n",
    "\n",
    "_Además de añadir el \"factor social\" que radica en un puntaje dado por la media de cada una de las características a excepción del género y el departamento donde reside. Deducimos que esta representación aproximada se correlacione con los puntajes obtenidos en las pruebas saber 11 2018-2. "
   ]
  },
  {
   "cell_type": "code",
   "execution_count": 2,
   "metadata": {},
   "outputs": [],
   "source": [
    "import numpy as np\n",
    "import pandas as pd\n",
    "import matplotlib.pyplot as plt\n",
    "from sklearn.model_selection import KFold\n",
    "from sklearn.metrics import *\n",
    "\n",
    "%matplotlib inline"
   ]
  },
  {
   "cell_type": "code",
   "execution_count": 3,
   "metadata": {},
   "outputs": [],
   "source": [
    "xEntrenamiento = pd.read_csv('Entrenamiento/xEntrenamiento')\n",
    "yEntrenamiento = pd.read_csv('Entrenamiento/yEntrenamiento')\n",
    "#-----------------------------------------------------------\n",
    "\n",
    "\n",
    "#----------------------------------------------------------\n",
    "\n",
    "xPrueba = pd.read_csv('Prueba/xPrueba')\n",
    "yPrueba = pd.read_csv('Prueba/yPrueba')\n"
   ]
  },
  {
   "cell_type": "markdown",
   "metadata": {},
   "source": [
    "## Una Regresión simple\n"
   ]
  },
  {
   "cell_type": "code",
   "execution_count": 4,
   "metadata": {},
   "outputs": [
    {
     "name": "stdout",
     "output_type": "stream",
     "text": [
      "Error medio 469.3705044047456\n"
     ]
    }
   ],
   "source": [
    "from sklearn.linear_model import LinearRegression\n",
    "from sklearn.model_selection import cross_val_score\n",
    "\n",
    "estimador = LinearRegression()\n",
    "estimador.fit(xEntrenamiento[:70000], yEntrenamiento[:70000])\n",
    "\n",
    "error = cross_val_score(estimador, xEntrenamiento[:70000], yEntrenamiento[:70000], cv=KFold(10, shuffle=True), scoring=make_scorer(mean_squared_error))\n",
    "\n",
    "print \"Error medio\", np.mean(error)\n"
   ]
  },
  {
   "cell_type": "code",
   "execution_count": 5,
   "metadata": {},
   "outputs": [
    {
     "data": {
      "text/html": [
       "<div>\n",
       "<style scoped>\n",
       "    .dataframe tbody tr th:only-of-type {\n",
       "        vertical-align: middle;\n",
       "    }\n",
       "\n",
       "    .dataframe tbody tr th {\n",
       "        vertical-align: top;\n",
       "    }\n",
       "\n",
       "    .dataframe thead th {\n",
       "        text-align: right;\n",
       "    }\n",
       "</style>\n",
       "<table border=\"1\" class=\"dataframe\">\n",
       "  <thead>\n",
       "    <tr style=\"text-align: right;\">\n",
       "      <th></th>\n",
       "      <th>0</th>\n",
       "      <th>1</th>\n",
       "      <th>2</th>\n",
       "      <th>3</th>\n",
       "      <th>4</th>\n",
       "      <th>5</th>\n",
       "    </tr>\n",
       "  </thead>\n",
       "  <tbody>\n",
       "    <tr>\n",
       "      <th>0</th>\n",
       "      <td>54.637224</td>\n",
       "      <td>53.349638</td>\n",
       "      <td>52.065787</td>\n",
       "      <td>50.967889</td>\n",
       "      <td>53.541718</td>\n",
       "      <td>264.080443</td>\n",
       "    </tr>\n",
       "    <tr>\n",
       "      <th>1</th>\n",
       "      <td>49.354487</td>\n",
       "      <td>48.738975</td>\n",
       "      <td>47.656408</td>\n",
       "      <td>45.061713</td>\n",
       "      <td>46.766357</td>\n",
       "      <td>238.158963</td>\n",
       "    </tr>\n",
       "    <tr>\n",
       "      <th>2</th>\n",
       "      <td>51.257357</td>\n",
       "      <td>50.287629</td>\n",
       "      <td>49.121504</td>\n",
       "      <td>47.197204</td>\n",
       "      <td>49.231871</td>\n",
       "      <td>247.243775</td>\n",
       "    </tr>\n",
       "    <tr>\n",
       "      <th>3</th>\n",
       "      <td>53.908063</td>\n",
       "      <td>52.921012</td>\n",
       "      <td>51.685429</td>\n",
       "      <td>50.137749</td>\n",
       "      <td>52.560221</td>\n",
       "      <td>260.969957</td>\n",
       "    </tr>\n",
       "    <tr>\n",
       "      <th>4</th>\n",
       "      <td>54.864166</td>\n",
       "      <td>53.859364</td>\n",
       "      <td>52.597594</td>\n",
       "      <td>51.199223</td>\n",
       "      <td>53.763313</td>\n",
       "      <td>265.895085</td>\n",
       "    </tr>\n",
       "  </tbody>\n",
       "</table>\n",
       "</div>"
      ],
      "text/plain": [
       "           0          1          2          3          4           5\n",
       "0  54.637224  53.349638  52.065787  50.967889  53.541718  264.080443\n",
       "1  49.354487  48.738975  47.656408  45.061713  46.766357  238.158963\n",
       "2  51.257357  50.287629  49.121504  47.197204  49.231871  247.243775\n",
       "3  53.908063  52.921012  51.685429  50.137749  52.560221  260.969957\n",
       "4  54.864166  53.859364  52.597594  51.199223  53.763313  265.895085"
      ]
     },
     "execution_count": 5,
     "metadata": {},
     "output_type": "execute_result"
    }
   ],
   "source": [
    "pd.DataFrame(data=estimador.predict(xPrueba[:7000])).head()"
   ]
  },
  {
   "cell_type": "code",
   "execution_count": null,
   "metadata": {},
   "outputs": [],
   "source": []
  },
  {
   "cell_type": "code",
   "execution_count": null,
   "metadata": {},
   "outputs": [],
   "source": []
  }
 ],
 "metadata": {
  "kernelspec": {
   "display_name": "Python 2",
   "language": "python",
   "name": "python2"
  },
  "language_info": {
   "codemirror_mode": {
    "name": "ipython",
    "version": 2
   },
   "file_extension": ".py",
   "mimetype": "text/x-python",
   "name": "python",
   "nbconvert_exporter": "python",
   "pygments_lexer": "ipython2",
   "version": "2.7.14"
  }
 },
 "nbformat": 4,
 "nbformat_minor": 2
}
