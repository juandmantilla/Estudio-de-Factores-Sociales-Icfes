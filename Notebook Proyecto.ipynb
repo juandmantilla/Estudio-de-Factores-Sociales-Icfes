{
 "cells": [
  {
   "cell_type": "markdown",
   "metadata": {},
   "source": [
    "# Proyecto IA \n",
    "**Proyecto enfocado a la predicción de puntajes Saber 11 , tomando como referencia factores sociales cuantitativos relevantes y determinantes.\n",
    "Los datos son proporcionados por la plataforma www.datos.gov.co. A través del siguiente enlace podrá exportar el archivo en formato CSV https://www.datos.gov.co/Educaci-n/Saber-11-2018-2/m2nt-jw2h**\n"
   ]
  },
  {
   "cell_type": "markdown",
   "metadata": {},
   "source": [
    "_La modificación de los datos es necesaria. Se realizaron cambios en los campos por valores numéricos totalmente relacionados con los valores de las características:_\n",
    "\n",
    "1. Los valores del campo ESTU_GENERO han sido reemplazados por 0 (femenino) y 1 (masculino).\n",
    "2. Los valores del campo ESTU_DEPTO_RESIDE han sido reemplazados por valores numéricos con respecto al orden alfabético de los nombres de los departamentos\n",
    "3. FAMI_ESTRATOVIVIENDA: 0 (Sin estrato),...,6 (Estrato 6)\n",
    "4. FAMI_TIENEINTERNET: Si (1), No (0)\n",
    "5. FAMI_TIENECOMPUTADOR: Si (1), No (0)\n",
    "6. FAMI_SITUACIONECONOMICA: Peor (0), Igual(1), Mejor(2)\n",
    "\n",
    "_Los siguientes valores (medido en minutos) corresponden a la media de los extremos de los rangos otorgados por el archivo:_\n",
    "\n",
    "1. ESTU_DEDICACIONLECTURADIARIA: 30 minutos o menos (15), Entre 30 y 60 minutos (45), Entre 1 y 3 horas (120), Mas de 2 horas (120), No lee por entretenimiento (0)\n",
    "2. ESTU_DEDICACIONINTERNET: No navega (0), 30 minutos o menos (15), Entre 30 y 60 minutos (45), Entre 1 y 3 horas (120), Mas de 3 horas (180)"
   ]
  },
  {
   "cell_type": "code",
   "execution_count": 27,
   "metadata": {},
   "outputs": [],
   "source": [
    "import numpy as np\n",
    "import pandas as pd\n",
    "import matplotlib.pyplot as plt\n",
    "from sklearn.model_selection import KFold\n",
    "from sklearn.metrics import *\n",
    "\n",
    "%matplotlib inline\n",
    "\n",
    "\n"
   ]
  },
  {
   "cell_type": "code",
   "execution_count": 42,
   "metadata": {},
   "outputs": [],
   "source": [
    "xEntrenamiento = pd.read_csv('Entrenamiento/xEntrenamiento')\n",
    "yEntrenamiento = pd.read_csv('Entrenamiento/yEntrenamiento')\n",
    "#-----------------------------------------------------------\n",
    "\n",
    "xEntrenamiento = xEntrenamiento.values[0:5000]\n",
    "yEntrenamiento = yEntrenamiento.values[0:5000]\n",
    "\n",
    "\n",
    "#----------------------------------------------------------\n",
    "\n",
    "xPrueba = pd.read_csv('Prueba/xPrueba')\n",
    "yPrueba = pd.read_csv('Prueba/yPrueba')\n",
    "yPrueba= yPrueba.values[0:5000]\n",
    "\n",
    "\n",
    "\n"
   ]
  },
  {
   "cell_type": "code",
   "execution_count": 44,
   "metadata": {},
   "outputs": [],
   "source": [
    "from sklearn.linear_model import LinearRegression\n",
    "from sklearn.model_selection import cross_val_score\n",
    "\n",
    "estimador = LinearRegression()\n",
    "estimador = estimador.fit(yEntrenamiento[:,:-1], yEntrenamiento[:,-1])\n",
    "resp = estimador.predict(yPrueba[:,:-1])\n"
   ]
  },
  {
   "cell_type": "code",
   "execution_count": 46,
   "metadata": {},
   "outputs": [
    {
     "data": {
      "text/html": [
       "<div>\n",
       "<style scoped>\n",
       "    .dataframe tbody tr th:only-of-type {\n",
       "        vertical-align: middle;\n",
       "    }\n",
       "\n",
       "    .dataframe tbody tr th {\n",
       "        vertical-align: top;\n",
       "    }\n",
       "\n",
       "    .dataframe thead th {\n",
       "        text-align: right;\n",
       "    }\n",
       "</style>\n",
       "<table border=\"1\" class=\"dataframe\">\n",
       "  <thead>\n",
       "    <tr style=\"text-align: right;\">\n",
       "      <th></th>\n",
       "      <th>0</th>\n",
       "    </tr>\n",
       "  </thead>\n",
       "  <tbody>\n",
       "    <tr>\n",
       "      <th>0</th>\n",
       "      <td>247.705662</td>\n",
       "    </tr>\n",
       "    <tr>\n",
       "      <th>1</th>\n",
       "      <td>237.690546</td>\n",
       "    </tr>\n",
       "    <tr>\n",
       "      <th>2</th>\n",
       "      <td>263.456509</td>\n",
       "    </tr>\n",
       "    <tr>\n",
       "      <th>3</th>\n",
       "      <td>219.635291</td>\n",
       "    </tr>\n",
       "    <tr>\n",
       "      <th>4</th>\n",
       "      <td>277.699913</td>\n",
       "    </tr>\n",
       "  </tbody>\n",
       "</table>\n",
       "</div>"
      ],
      "text/plain": [
       "            0\n",
       "0  247.705662\n",
       "1  237.690546\n",
       "2  263.456509\n",
       "3  219.635291\n",
       "4  277.699913"
      ]
     },
     "execution_count": 46,
     "metadata": {},
     "output_type": "execute_result"
    }
   ],
   "source": [
    "pd.DataFrame(data=resp).head()"
   ]
  },
  {
   "cell_type": "code",
   "execution_count": 49,
   "metadata": {},
   "outputs": [
    {
     "data": {
      "text/html": [
       "<div>\n",
       "<style scoped>\n",
       "    .dataframe tbody tr th:only-of-type {\n",
       "        vertical-align: middle;\n",
       "    }\n",
       "\n",
       "    .dataframe tbody tr th {\n",
       "        vertical-align: top;\n",
       "    }\n",
       "\n",
       "    .dataframe thead th {\n",
       "        text-align: right;\n",
       "    }\n",
       "</style>\n",
       "<table border=\"1\" class=\"dataframe\">\n",
       "  <thead>\n",
       "    <tr style=\"text-align: right;\">\n",
       "      <th></th>\n",
       "      <th>0</th>\n",
       "      <th>1</th>\n",
       "      <th>2</th>\n",
       "      <th>3</th>\n",
       "      <th>4</th>\n",
       "    </tr>\n",
       "  </thead>\n",
       "  <tbody>\n",
       "    <tr>\n",
       "      <th>0</th>\n",
       "      <td>49.0</td>\n",
       "      <td>52.0</td>\n",
       "      <td>47.0</td>\n",
       "      <td>48.0</td>\n",
       "      <td>56.0</td>\n",
       "    </tr>\n",
       "    <tr>\n",
       "      <th>1</th>\n",
       "      <td>53.0</td>\n",
       "      <td>52.0</td>\n",
       "      <td>45.0</td>\n",
       "      <td>41.0</td>\n",
       "      <td>45.0</td>\n",
       "    </tr>\n",
       "    <tr>\n",
       "      <th>2</th>\n",
       "      <td>59.0</td>\n",
       "      <td>51.0</td>\n",
       "      <td>54.0</td>\n",
       "      <td>47.0</td>\n",
       "      <td>52.0</td>\n",
       "    </tr>\n",
       "    <tr>\n",
       "      <th>3</th>\n",
       "      <td>49.0</td>\n",
       "      <td>43.0</td>\n",
       "      <td>36.0</td>\n",
       "      <td>45.0</td>\n",
       "      <td>52.0</td>\n",
       "    </tr>\n",
       "    <tr>\n",
       "      <th>4</th>\n",
       "      <td>52.0</td>\n",
       "      <td>62.0</td>\n",
       "      <td>54.0</td>\n",
       "      <td>52.0</td>\n",
       "      <td>62.0</td>\n",
       "    </tr>\n",
       "  </tbody>\n",
       "</table>\n",
       "</div>"
      ],
      "text/plain": [
       "      0     1     2     3     4\n",
       "0  49.0  52.0  47.0  48.0  56.0\n",
       "1  53.0  52.0  45.0  41.0  45.0\n",
       "2  59.0  51.0  54.0  47.0  52.0\n",
       "3  49.0  43.0  36.0  45.0  52.0\n",
       "4  52.0  62.0  54.0  52.0  62.0"
      ]
     },
     "execution_count": 49,
     "metadata": {},
     "output_type": "execute_result"
    }
   ],
   "source": [
    "pd.DataFrame(data=yPrueba[:,:-1]).head()"
   ]
  },
  {
   "cell_type": "code",
   "execution_count": null,
   "metadata": {},
   "outputs": [],
   "source": []
  }
 ],
 "metadata": {
  "kernelspec": {
   "display_name": "Python 2",
   "language": "python",
   "name": "python2"
  },
  "language_info": {
   "codemirror_mode": {
    "name": "ipython",
    "version": 2
   },
   "file_extension": ".py",
   "mimetype": "text/x-python",
   "name": "python",
   "nbconvert_exporter": "python",
   "pygments_lexer": "ipython2",
   "version": "2.7.14"
  }
 },
 "nbformat": 4,
 "nbformat_minor": 2
}
